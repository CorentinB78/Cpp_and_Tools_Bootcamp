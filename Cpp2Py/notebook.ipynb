{
 "cells": [
  {
   "cell_type": "code",
   "execution_count": null,
   "metadata": {},
   "outputs": [],
   "source": [
    "%reload_ext cpp2py.magic"
   ]
  },
  {
   "cell_type": "code",
   "execution_count": null,
   "metadata": {},
   "outputs": [],
   "source": [
    "%%cpp2py\n",
    "\n",
    "#include <vector>\n",
    "\n",
    "/// A Simple class\n",
    "class myclass {\n",
    "\n",
    "  int a = 35, b = 3, c = 5;\n",
    "\n",
    "  public:\n",
    "  myclass() = default;\n",
    "\n",
    "  /// Return a vector with all members\n",
    "  std::vector<int> list_of_members() const { return {a, b, c}; }\n",
    "};"
   ]
  },
  {
   "cell_type": "code",
   "execution_count": null,
   "metadata": {},
   "outputs": [],
   "source": [
    "c = Myclass()\n",
    "print c.list_of_members"
   ]
  }
 ],
 "metadata": {
  "kernelspec": {
   "display_name": "Python 2",
   "language": "python",
   "name": "python2"
  },
  "language_info": {
   "codemirror_mode": {
    "name": "ipython",
    "version": 2
   },
   "file_extension": ".py",
   "mimetype": "text/x-python",
   "name": "python",
   "nbconvert_exporter": "python",
   "pygments_lexer": "ipython2",
   "version": "2.7.16"
  }
 },
 "nbformat": 4,
 "nbformat_minor": 2
}
